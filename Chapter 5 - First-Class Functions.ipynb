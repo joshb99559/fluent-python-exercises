{
 "cells": [
  {
   "cell_type": "markdown",
   "id": "452acfca",
   "metadata": {},
   "source": [
    "# **Chapter 5: First-Class Functions** "
   ]
  },
  {
   "cell_type": "markdown",
   "id": "4a6dcd7d",
   "metadata": {},
   "source": [
    "Treating a function like an object"
   ]
  },
  {
   "cell_type": "code",
   "execution_count": 1,
   "id": "e8296849",
   "metadata": {},
   "outputs": [],
   "source": [
    "def factorial(n):\n",
    "    ''' returns n! '''\n",
    "    return 1 if n < 2 else n * factorial(n - 1)"
   ]
  },
  {
   "cell_type": "code",
   "execution_count": 2,
   "id": "46e657d1",
   "metadata": {},
   "outputs": [
    {
     "data": {
      "text/plain": [
       "1405006117752879898543142606244511569936384000000000"
      ]
     },
     "execution_count": 2,
     "metadata": {},
     "output_type": "execute_result"
    }
   ],
   "source": [
    "factorial(42)"
   ]
  },
  {
   "cell_type": "code",
   "execution_count": 3,
   "id": "b71a16e4",
   "metadata": {},
   "outputs": [
    {
     "data": {
      "text/plain": [
       "' returns n! '"
      ]
     },
     "execution_count": 3,
     "metadata": {},
     "output_type": "execute_result"
    }
   ],
   "source": [
    "factorial.__doc__"
   ]
  },
  {
   "cell_type": "code",
   "execution_count": 4,
   "id": "34dd3524",
   "metadata": {},
   "outputs": [
    {
     "data": {
      "text/plain": [
       "function"
      ]
     },
     "execution_count": 4,
     "metadata": {},
     "output_type": "execute_result"
    }
   ],
   "source": [
    "type(factorial)"
   ]
  },
  {
   "cell_type": "markdown",
   "id": "cf9dd248",
   "metadata": {},
   "source": [
    "    Example 5-2. Use function through a different name, and pass function as argument"
   ]
  },
  {
   "cell_type": "code",
   "execution_count": 5,
   "id": "3a341a24",
   "metadata": {},
   "outputs": [],
   "source": [
    "fact = factorial"
   ]
  },
  {
   "cell_type": "code",
   "execution_count": 6,
   "id": "b2f07135",
   "metadata": {},
   "outputs": [
    {
     "data": {
      "text/plain": [
       "<function __main__.factorial(n)>"
      ]
     },
     "execution_count": 6,
     "metadata": {},
     "output_type": "execute_result"
    }
   ],
   "source": [
    "fact"
   ]
  },
  {
   "cell_type": "code",
   "execution_count": 7,
   "id": "cfa50c6e",
   "metadata": {},
   "outputs": [
    {
     "data": {
      "text/plain": [
       "120"
      ]
     },
     "execution_count": 7,
     "metadata": {},
     "output_type": "execute_result"
    }
   ],
   "source": [
    "fact(5)"
   ]
  },
  {
   "cell_type": "code",
   "execution_count": 8,
   "id": "49126b5d",
   "metadata": {},
   "outputs": [
    {
     "data": {
      "text/plain": [
       "<map at 0x7f3a347985b0>"
      ]
     },
     "execution_count": 8,
     "metadata": {},
     "output_type": "execute_result"
    }
   ],
   "source": [
    "map(factorial, range(11))"
   ]
  },
  {
   "cell_type": "code",
   "execution_count": 9,
   "id": "36c9948c",
   "metadata": {},
   "outputs": [
    {
     "data": {
      "text/plain": [
       "[1, 1, 2, 6, 24, 120, 720, 5040, 40320, 362880, 3628800]"
      ]
     },
     "execution_count": 9,
     "metadata": {},
     "output_type": "execute_result"
    }
   ],
   "source": [
    "list(map(fact, range(11)))"
   ]
  },
  {
   "cell_type": "markdown",
   "id": "df46f248",
   "metadata": {},
   "source": [
    "     Example 5-3. Sorting a list of words by length"
   ]
  },
  {
   "cell_type": "code",
   "execution_count": 10,
   "id": "bd6b409e",
   "metadata": {},
   "outputs": [
    {
     "data": {
      "text/plain": [
       "['apple', 'banana', 'papaya', 'cranberry', 'strawberry']"
      ]
     },
     "execution_count": 10,
     "metadata": {},
     "output_type": "execute_result"
    }
   ],
   "source": [
    "fruits = ['strawberry', 'banana', 'apple', 'cranberry', 'papaya']\n",
    "sorted(fruits, key=len)"
   ]
  },
  {
   "cell_type": "markdown",
   "id": "7cf15650",
   "metadata": {},
   "source": [
    "    Example 5-4. Sorting a list of words by their reverse spelling"
   ]
  },
  {
   "cell_type": "code",
   "execution_count": 12,
   "id": "e22d9505",
   "metadata": {},
   "outputs": [
    {
     "data": {
      "text/plain": [
       "'gnitset'"
      ]
     },
     "execution_count": 12,
     "metadata": {},
     "output_type": "execute_result"
    }
   ],
   "source": [
    "def reverse(word):\n",
    "    return word[::-1]\n",
    "reverse('testing')"
   ]
  },
  {
   "cell_type": "code",
   "execution_count": 13,
   "id": "4343e4de",
   "metadata": {},
   "outputs": [
    {
     "data": {
      "text/plain": [
       "['banana', 'papaya', 'apple', 'cranberry', 'strawberry']"
      ]
     },
     "execution_count": 13,
     "metadata": {},
     "output_type": "execute_result"
    }
   ],
   "source": [
    "sorted(fruits, key=reverse)"
   ]
  },
  {
   "cell_type": "markdown",
   "id": "7ec17feb",
   "metadata": {},
   "source": [
    "    Example 5-5. Lists of factorials produced with map and filter compared to alternatives coded as list          comprehensions"
   ]
  },
  {
   "cell_type": "code",
   "execution_count": 14,
   "id": "2701699e",
   "metadata": {},
   "outputs": [
    {
     "data": {
      "text/plain": [
       "[1, 1, 2, 6, 24, 120]"
      ]
     },
     "execution_count": 14,
     "metadata": {},
     "output_type": "execute_result"
    }
   ],
   "source": [
    "list(map(fact, range(6)))"
   ]
  },
  {
   "cell_type": "code",
   "execution_count": 15,
   "id": "7c9aed21",
   "metadata": {},
   "outputs": [
    {
     "data": {
      "text/plain": [
       "[1, 1, 2, 6, 24, 120]"
      ]
     },
     "execution_count": 15,
     "metadata": {},
     "output_type": "execute_result"
    }
   ],
   "source": [
    "[fact(n) for n in range(6)]"
   ]
  },
  {
   "cell_type": "code",
   "execution_count": 16,
   "id": "85b23c70",
   "metadata": {},
   "outputs": [
    {
     "data": {
      "text/plain": [
       "[1, 6, 120]"
      ]
     },
     "execution_count": 16,
     "metadata": {},
     "output_type": "execute_result"
    }
   ],
   "source": [
    "list(map(factorial, filter(lambda n: n % 2, range(6))))"
   ]
  },
  {
   "cell_type": "code",
   "execution_count": 17,
   "id": "cd98e308",
   "metadata": {},
   "outputs": [
    {
     "data": {
      "text/plain": [
       "[1, 6, 120]"
      ]
     },
     "execution_count": 17,
     "metadata": {},
     "output_type": "execute_result"
    }
   ],
   "source": [
    "[factorial(n) for n in range(6) if n % 2]"
   ]
  },
  {
   "cell_type": "markdown",
   "id": "a309a945",
   "metadata": {},
   "source": [
    "    Example 5-6. Sum of integers up to 99 performed with reduce and sum"
   ]
  },
  {
   "cell_type": "code",
   "execution_count": 19,
   "id": "cff331c1",
   "metadata": {},
   "outputs": [
    {
     "data": {
      "text/plain": [
       "4950"
      ]
     },
     "execution_count": 19,
     "metadata": {},
     "output_type": "execute_result"
    }
   ],
   "source": [
    "from functools import reduce\n",
    "from operator import add\n",
    "reduce(add, range(100))"
   ]
  },
  {
   "cell_type": "code",
   "execution_count": 21,
   "id": "d7b59872",
   "metadata": {},
   "outputs": [
    {
     "data": {
      "text/plain": [
       "4950"
      ]
     },
     "execution_count": 21,
     "metadata": {},
     "output_type": "execute_result"
    }
   ],
   "source": [
    "sum(range(100))"
   ]
  },
  {
   "cell_type": "markdown",
   "id": "e9285766",
   "metadata": {},
   "source": [
    "    Example 5-7. Sorting a list of words by their reversed spelling using lambda"
   ]
  },
  {
   "cell_type": "code",
   "execution_count": 22,
   "id": "2a10aed0",
   "metadata": {},
   "outputs": [
    {
     "data": {
      "text/plain": [
       "['banana', 'papaya', 'apple', 'cranberry', 'strawberry']"
      ]
     },
     "execution_count": 22,
     "metadata": {},
     "output_type": "execute_result"
    }
   ],
   "source": [
    "sorted(fruits, key=lambda word: word[::-1])"
   ]
  },
  {
   "cell_type": "markdown",
   "id": "09e219c3",
   "metadata": {},
   "source": [
    "    Lundh's lambda Refactoring Recipe:\n",
    "    1. Write a comment explaining what the heck that lambda does.\n",
    "    2. Study the comment for a while, and think of a name that captures the essence of that comment.\n",
    "    3. Convert the lambda to a def statement, using that name.\n",
    "    4. Remove the comment."
   ]
  },
  {
   "cell_type": "markdown",
   "id": "e1da568e",
   "metadata": {},
   "source": [
    "    Example 5-8. bingocall.py: A BingoCage does one thing: picks items from a shuffled list"
   ]
  },
  {
   "cell_type": "code",
   "execution_count": 25,
   "id": "92911398",
   "metadata": {},
   "outputs": [],
   "source": [
    "import random\n",
    "\n",
    "class BingoCage:\n",
    "    \n",
    "    def __init__(self, items):\n",
    "        self._items = list(items)\n",
    "        random.shuffle(self._items)\n",
    "        \n",
    "    def pick(self):\n",
    "        try:\n",
    "            return self._items.pop()\n",
    "        except IndexError:\n",
    "            raise LookupError('pick from empty BingoCage')\n",
    "    \n",
    "    def __call__(self):\n",
    "        return self.pick()"
   ]
  },
  {
   "cell_type": "code",
   "execution_count": 26,
   "id": "623d19ce",
   "metadata": {},
   "outputs": [
    {
     "data": {
      "text/plain": [
       "2"
      ]
     },
     "execution_count": 26,
     "metadata": {},
     "output_type": "execute_result"
    }
   ],
   "source": [
    "bingo = BingoCage(range(3))\n",
    "bingo.pick()"
   ]
  },
  {
   "cell_type": "code",
   "execution_count": 27,
   "id": "1ac68ae6",
   "metadata": {},
   "outputs": [
    {
     "data": {
      "text/plain": [
       "0"
      ]
     },
     "execution_count": 27,
     "metadata": {},
     "output_type": "execute_result"
    }
   ],
   "source": [
    "bingo()"
   ]
  },
  {
   "cell_type": "code",
   "execution_count": 28,
   "id": "4fe6d9cb",
   "metadata": {},
   "outputs": [
    {
     "data": {
      "text/plain": [
       "1"
      ]
     },
     "execution_count": 28,
     "metadata": {},
     "output_type": "execute_result"
    }
   ],
   "source": [
    "bingo()"
   ]
  },
  {
   "cell_type": "code",
   "execution_count": 29,
   "id": "604accfc",
   "metadata": {},
   "outputs": [
    {
     "ename": "LookupError",
     "evalue": "pick from empty BingoCage",
     "output_type": "error",
     "traceback": [
      "\u001b[0;31m---------------------------------------------------------------------------\u001b[0m",
      "\u001b[0;31mIndexError\u001b[0m                                Traceback (most recent call last)",
      "Input \u001b[0;32mIn [25]\u001b[0m, in \u001b[0;36mBingoCage.pick\u001b[0;34m(self)\u001b[0m\n\u001b[1;32m     10\u001b[0m \u001b[38;5;28;01mtry\u001b[39;00m:\n\u001b[0;32m---> 11\u001b[0m     \u001b[38;5;28;01mreturn\u001b[39;00m \u001b[38;5;28;43mself\u001b[39;49m\u001b[38;5;241;43m.\u001b[39;49m\u001b[43m_items\u001b[49m\u001b[38;5;241;43m.\u001b[39;49m\u001b[43mpop\u001b[49m\u001b[43m(\u001b[49m\u001b[43m)\u001b[49m\n\u001b[1;32m     12\u001b[0m \u001b[38;5;28;01mexcept\u001b[39;00m \u001b[38;5;167;01mIndexError\u001b[39;00m:\n",
      "\u001b[0;31mIndexError\u001b[0m: pop from empty list",
      "\nDuring handling of the above exception, another exception occurred:\n",
      "\u001b[0;31mLookupError\u001b[0m                               Traceback (most recent call last)",
      "Input \u001b[0;32mIn [29]\u001b[0m, in \u001b[0;36m<cell line: 1>\u001b[0;34m()\u001b[0m\n\u001b[0;32m----> 1\u001b[0m \u001b[43mbingo\u001b[49m\u001b[43m(\u001b[49m\u001b[43m)\u001b[49m\n",
      "Input \u001b[0;32mIn [25]\u001b[0m, in \u001b[0;36mBingoCage.__call__\u001b[0;34m(self)\u001b[0m\n\u001b[1;32m     15\u001b[0m \u001b[38;5;28;01mdef\u001b[39;00m \u001b[38;5;21m__call__\u001b[39m(\u001b[38;5;28mself\u001b[39m):\n\u001b[0;32m---> 16\u001b[0m     \u001b[38;5;28;01mreturn\u001b[39;00m \u001b[38;5;28;43mself\u001b[39;49m\u001b[38;5;241;43m.\u001b[39;49m\u001b[43mpick\u001b[49m\u001b[43m(\u001b[49m\u001b[43m)\u001b[49m\n",
      "Input \u001b[0;32mIn [25]\u001b[0m, in \u001b[0;36mBingoCage.pick\u001b[0;34m(self)\u001b[0m\n\u001b[1;32m     11\u001b[0m     \u001b[38;5;28;01mreturn\u001b[39;00m \u001b[38;5;28mself\u001b[39m\u001b[38;5;241m.\u001b[39m_items\u001b[38;5;241m.\u001b[39mpop()\n\u001b[1;32m     12\u001b[0m \u001b[38;5;28;01mexcept\u001b[39;00m \u001b[38;5;167;01mIndexError\u001b[39;00m:\n\u001b[0;32m---> 13\u001b[0m     \u001b[38;5;28;01mraise\u001b[39;00m \u001b[38;5;167;01mLookupError\u001b[39;00m(\u001b[38;5;124m'\u001b[39m\u001b[38;5;124mpick from empty BingoCage\u001b[39m\u001b[38;5;124m'\u001b[39m)\n",
      "\u001b[0;31mLookupError\u001b[0m: pick from empty BingoCage"
     ]
    }
   ],
   "source": [
    "bingo()"
   ]
  },
  {
   "cell_type": "code",
   "execution_count": 30,
   "id": "9c7eed9f",
   "metadata": {},
   "outputs": [
    {
     "data": {
      "text/plain": [
       "True"
      ]
     },
     "execution_count": 30,
     "metadata": {},
     "output_type": "execute_result"
    }
   ],
   "source": [
    "callable(bingo)"
   ]
  },
  {
   "cell_type": "markdown",
   "id": "fad4146b",
   "metadata": {},
   "source": [
    "    Example 5-9. Listing attributes of functions that don't exist in plain instances"
   ]
  },
  {
   "cell_type": "code",
   "execution_count": 33,
   "id": "105d059c",
   "metadata": {},
   "outputs": [
    {
     "data": {
      "text/plain": [
       "['__annotations__',\n",
       " '__call__',\n",
       " '__closure__',\n",
       " '__code__',\n",
       " '__defaults__',\n",
       " '__get__',\n",
       " '__globals__',\n",
       " '__kwdefaults__',\n",
       " '__name__',\n",
       " '__qualname__']"
      ]
     },
     "execution_count": 33,
     "metadata": {},
     "output_type": "execute_result"
    }
   ],
   "source": [
    "class C: pass\n",
    "obj = C()\n",
    "def func(): pass\n",
    "sorted(set(dir(func)) - set(dir(obj)))"
   ]
  },
  {
   "cell_type": "markdown",
   "id": "1ab905a7",
   "metadata": {},
   "source": [
    "    Example 5-10. tag generates HTML; a keyword-only argument cls is used to pass \"class\" attributes as a        workaround because class is a keyword in Python"
   ]
  },
  {
   "cell_type": "code",
   "execution_count": 57,
   "id": "65ee087a",
   "metadata": {},
   "outputs": [],
   "source": [
    "def tag(name, *content, cls=None, **attrs):\n",
    "    \"\"\"Generate one or more HTML tags\"\"\"\n",
    "    if cls is not None:\n",
    "        attrs['class'] = cls\n",
    "    if attrs:\n",
    "        attr_str = ''.join(' %s=\"%s\"' % (attr, value)\n",
    "                            for attr, value\n",
    "                            in sorted(attrs.items()))\n",
    "    else:\n",
    "        attr_str = ''\n",
    "    if content:\n",
    "        return '\\n'.join('<%s%s>%s</%s>' %\n",
    "                        (name, attr_str, c, name) for c in content)\n",
    "    else:\n",
    "        return '<%s%s />' % (name, attr_str)"
   ]
  },
  {
   "cell_type": "code",
   "execution_count": 58,
   "id": "3ce99079",
   "metadata": {},
   "outputs": [
    {
     "data": {
      "text/plain": [
       "'<br />'"
      ]
     },
     "execution_count": 58,
     "metadata": {},
     "output_type": "execute_result"
    }
   ],
   "source": [
    "tag('br')"
   ]
  },
  {
   "cell_type": "code",
   "execution_count": 59,
   "id": "21c5bc2b",
   "metadata": {},
   "outputs": [
    {
     "data": {
      "text/plain": [
       "'<p>hello</p>'"
      ]
     },
     "execution_count": 59,
     "metadata": {},
     "output_type": "execute_result"
    }
   ],
   "source": [
    "tag('p', 'hello')"
   ]
  },
  {
   "cell_type": "code",
   "execution_count": 60,
   "id": "e4e20fed",
   "metadata": {},
   "outputs": [
    {
     "data": {
      "text/plain": [
       "'<p>hello</p>\\n<p>world</p>'"
      ]
     },
     "execution_count": 60,
     "metadata": {},
     "output_type": "execute_result"
    }
   ],
   "source": [
    "tag('p', 'hello', 'world')"
   ]
  },
  {
   "cell_type": "code",
   "execution_count": 62,
   "id": "7c7d8219",
   "metadata": {},
   "outputs": [
    {
     "data": {
      "text/plain": [
       "'<p id=\"33\">hello</p>'"
      ]
     },
     "execution_count": 62,
     "metadata": {},
     "output_type": "execute_result"
    }
   ],
   "source": [
    "tag('p', 'hello', id=33)"
   ]
  },
  {
   "cell_type": "code",
   "execution_count": 63,
   "id": "8ac236d8",
   "metadata": {},
   "outputs": [
    {
     "data": {
      "text/plain": [
       "'<p class=\"sidebar\">hello</p>\\n<p class=\"sidebar\">world</p>'"
      ]
     },
     "execution_count": 63,
     "metadata": {},
     "output_type": "execute_result"
    }
   ],
   "source": [
    "tag('p', 'hello', 'world', cls='sidebar')"
   ]
  },
  {
   "cell_type": "code",
   "execution_count": 64,
   "id": "0824614a",
   "metadata": {},
   "outputs": [
    {
     "data": {
      "text/plain": [
       "'<img content=\"testing\" />'"
      ]
     },
     "execution_count": 64,
     "metadata": {},
     "output_type": "execute_result"
    }
   ],
   "source": [
    "tag(content='testing', name='img')"
   ]
  },
  {
   "cell_type": "code",
   "execution_count": 65,
   "id": "58921b90",
   "metadata": {},
   "outputs": [
    {
     "data": {
      "text/plain": [
       "'<img class=\"framed\" src=\"sunset.jpg\" title=\"Sunset Boulevard\" />'"
      ]
     },
     "execution_count": 65,
     "metadata": {},
     "output_type": "execute_result"
    }
   ],
   "source": [
    "my_tag = {'name': 'img', 'title': 'Sunset Boulevard', 'src': 'sunset.jpg', 'cls': 'framed'}\n",
    "tag(**my_tag)"
   ]
  },
  {
   "cell_type": "code",
   "execution_count": null,
   "id": "4468224d",
   "metadata": {},
   "outputs": [],
   "source": []
  }
 ],
 "metadata": {
  "kernelspec": {
   "display_name": "Python 3 (ipykernel)",
   "language": "python",
   "name": "python3"
  },
  "language_info": {
   "codemirror_mode": {
    "name": "ipython",
    "version": 3
   },
   "file_extension": ".py",
   "mimetype": "text/x-python",
   "name": "python",
   "nbconvert_exporter": "python",
   "pygments_lexer": "ipython3",
   "version": "3.9.12"
  }
 },
 "nbformat": 4,
 "nbformat_minor": 5
}
